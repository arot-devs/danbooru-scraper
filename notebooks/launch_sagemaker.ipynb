{
 "cells": [
  {
   "cell_type": "markdown",
   "metadata": {},
   "source": [
    "the example script here runs the command\n",
    "```\n",
    "./sagmaker_submit_dir/run_scraper.py --from-id 8627380 --to-id 8627391 --local-dir danbooru_downloads --upload-dir s3://dataset-ingested/danbooru\n",
    "```\n",
    "on a sagemaker ml.m5.xlarge instance. The script downloads images from danbooru and uploads them to an s3 bucket"
   ]
  },
  {
   "cell_type": "code",
   "execution_count": 1,
   "metadata": {},
   "outputs": [
    {
     "name": "stderr",
     "output_type": "stream",
     "text": [
      "/home/ubuntu/miniconda3/lib/python3.10/site-packages/pydantic/_internal/_fields.py:192: UserWarning: Field name \"json\" in \"MonitoringDatasetFormat\" shadows an attribute in parent \"Base\"\n",
      "  warnings.warn(\n"
     ]
    },
    {
     "data": {
      "text/html": [
       "<pre style=\"white-space:pre;overflow-x:auto;line-height:normal;font-family:Menlo,'DejaVu Sans Mono',consolas,'Courier New',monospace\"><span style=\"color: #7fbfbf; text-decoration-color: #7fbfbf\">[12/28/24 07:13:19] </span><span style=\"color: #0069ff; text-decoration-color: #0069ff; font-weight: bold\">INFO    </span> Found credentials in shared credentials file: ~<span style=\"color: #e100e1; text-decoration-color: #e100e1\">/.aws/credentials</span>   <a href=\"file:///home/ubuntu/miniconda3/lib/python3.10/site-packages/botocore/credentials.py\" target=\"_blank\"><span style=\"color: #7f7f7f; text-decoration-color: #7f7f7f\">credentials.py</span></a><span style=\"color: #7f7f7f; text-decoration-color: #7f7f7f\">:</span><a href=\"file:///home/ubuntu/miniconda3/lib/python3.10/site-packages/botocore/credentials.py#1278\" target=\"_blank\"><span style=\"color: #7f7f7f; text-decoration-color: #7f7f7f\">1278</span></a>\n",
       "</pre>\n"
      ],
      "text/plain": [
       "\u001b[2;36m[12/28/24 07:13:19]\u001b[0m\u001b[2;36m \u001b[0m\u001b[1;38;2;0;105;255mINFO    \u001b[0m Found credentials in shared credentials file: ~\u001b[38;2;225;0;225m/.aws/\u001b[0m\u001b[38;2;225;0;225mcredentials\u001b[0m   \u001b]8;id=66833;file:///home/ubuntu/miniconda3/lib/python3.10/site-packages/botocore/credentials.py\u001b\\\u001b[2mcredentials.py\u001b[0m\u001b]8;;\u001b\\\u001b[2m:\u001b[0m\u001b]8;id=969072;file:///home/ubuntu/miniconda3/lib/python3.10/site-packages/botocore/credentials.py#1278\u001b\\\u001b[2m1278\u001b[0m\u001b]8;;\u001b\\\n"
      ]
     },
     "metadata": {},
     "output_type": "display_data"
    },
    {
     "name": "stdout",
     "output_type": "stream",
     "text": [
      "sagemaker.config INFO - Not applying SDK defaults from location: /etc/xdg/sagemaker/config.yaml\n",
      "sagemaker.config INFO - Not applying SDK defaults from location: /home/ubuntu/.config/sagemaker/config.yaml\n"
     ]
    }
   ],
   "source": [
    "from sagemaker.pytorch import PyTorch\n",
    "\n",
    "def launch_scraper_job(start_id: int, end_id: int, local_dir: str, upload_dir: str, \n",
    "                       instance_type: str = \"ml.m5.xlarge\", max_run: int = 7200):\n",
    "    \"\"\"\n",
    "    Launch a single SageMaker job to run the scraper script.\n",
    "\n",
    "    Args:\n",
    "        start_id (int): Starting post ID for the scraper.\n",
    "        end_id (int): Ending post ID for the scraper.\n",
    "        local_dir (str): Local directory to store scraped data.\n",
    "        upload_dir (str): S3 bucket URI to upload the scraped data.\n",
    "        instance_type (str): SageMaker instance type to use.\n",
    "        max_run (int): Maximum run time in seconds (default: 2 hours).\n",
    "    \"\"\"\n",
    "    # Define hyperparameters\n",
    "    hyperparameters = {\n",
    "        'from-id': start_id,\n",
    "        'to-id': end_id,\n",
    "        'local-dir': local_dir,\n",
    "        'upload-dir': upload_dir,\n",
    "    }\n",
    "\n",
    "    # Estimator configuration\n",
    "    estimator = PyTorch(\n",
    "        entry_point='run_scraper.py',\n",
    "        source_dir='/home/ubuntu/danbooru-scraper/notebooks/sagmaker_submit_dir',\n",
    "        role='sagemaker_training_execution_role',  # Replace with your SageMaker role ARN\n",
    "        instance_count=1,\n",
    "        instance_type=instance_type,\n",
    "        image_uri='763104351884.dkr.ecr.us-west-2.amazonaws.com/pytorch-training:2.0.1-cpu-py310',\n",
    "        hyperparameters=hyperparameters,\n",
    "        max_run=max_run,\n",
    "        volume_size=50,  # Adjust based on your storage needs\n",
    "    )\n",
    "\n",
    "    # Job name for tracking\n",
    "    job_name = f\"scraper-job-{start_id}-{end_id}\"\n",
    "\n",
    "    # Launch the job\n",
    "    print(f\"Launching job: {job_name}\")\n",
    "    estimator.fit(wait=False, job_name=job_name)\n",
    "    print(f\"Job {job_name} completed.\")"
   ]
  },
  {
   "cell_type": "code",
   "execution_count": 7,
   "metadata": {},
   "outputs": [
    {
     "name": "stdout",
     "output_type": "stream",
     "text": [
      "Launching job: scraper-job-8627380-8627391\n"
     ]
    },
    {
     "data": {
      "text/html": [
       "<pre style=\"white-space:pre;overflow-x:auto;line-height:normal;font-family:Menlo,'DejaVu Sans Mono',consolas,'Courier New',monospace\"><span style=\"color: #7fbfbf; text-decoration-color: #7fbfbf\">[12/28/24 07:04:55] </span><span style=\"color: #0069ff; text-decoration-color: #0069ff; font-weight: bold\">INFO    </span> SageMaker Python SDK will collect telemetry to help us better  <a href=\"file:///home/ubuntu/miniconda3/lib/python3.10/site-packages/sagemaker/telemetry/telemetry_logging.py\" target=\"_blank\"><span style=\"color: #7f7f7f; text-decoration-color: #7f7f7f\">telemetry_logging.py</span></a><span style=\"color: #7f7f7f; text-decoration-color: #7f7f7f\">:</span><a href=\"file:///home/ubuntu/miniconda3/lib/python3.10/site-packages/sagemaker/telemetry/telemetry_logging.py#90\" target=\"_blank\"><span style=\"color: #7f7f7f; text-decoration-color: #7f7f7f\">90</span></a>\n",
       "<span style=\"color: #7fbfbf; text-decoration-color: #7fbfbf\">                    </span>         understand our user's needs, diagnose issues, and deliver      <span style=\"color: #7f7f7f; text-decoration-color: #7f7f7f\">                       </span>\n",
       "<span style=\"color: #7fbfbf; text-decoration-color: #7fbfbf\">                    </span>         additional features.                                           <span style=\"color: #7f7f7f; text-decoration-color: #7f7f7f\">                       </span>\n",
       "<span style=\"color: #7fbfbf; text-decoration-color: #7fbfbf\">                    </span>         To opt out of telemetry, please disable via TelemetryOptOut    <span style=\"color: #7f7f7f; text-decoration-color: #7f7f7f\">                       </span>\n",
       "<span style=\"color: #7fbfbf; text-decoration-color: #7fbfbf\">                    </span>         parameter in SDK defaults config. For more information, refer  <span style=\"color: #7f7f7f; text-decoration-color: #7f7f7f\">                       </span>\n",
       "<span style=\"color: #7fbfbf; text-decoration-color: #7fbfbf\">                    </span>         to                                                             <span style=\"color: #7f7f7f; text-decoration-color: #7f7f7f\">                       </span>\n",
       "<span style=\"color: #7fbfbf; text-decoration-color: #7fbfbf\">                    </span>         <span style=\"color: #0069ff; text-decoration-color: #0069ff; text-decoration: underline\">https://sagemaker.readthedocs.io/en/stable/overview.html#confi</span> <span style=\"color: #7f7f7f; text-decoration-color: #7f7f7f\">                       </span>\n",
       "<span style=\"color: #7fbfbf; text-decoration-color: #7fbfbf\">                    </span>         <span style=\"color: #0069ff; text-decoration-color: #0069ff; text-decoration: underline\">guring-and-using-defaults-with-the-sagemaker-python-sdk.</span>       <span style=\"color: #7f7f7f; text-decoration-color: #7f7f7f\">                       </span>\n",
       "</pre>\n"
      ],
      "text/plain": [
       "\u001b[2;36m[12/28/24 07:04:55]\u001b[0m\u001b[2;36m \u001b[0m\u001b[1;38;2;0;105;255mINFO    \u001b[0m SageMaker Python SDK will collect telemetry to help us better  \u001b]8;id=154148;file:///home/ubuntu/miniconda3/lib/python3.10/site-packages/sagemaker/telemetry/telemetry_logging.py\u001b\\\u001b[2mtelemetry_logging.py\u001b[0m\u001b]8;;\u001b\\\u001b[2m:\u001b[0m\u001b]8;id=778042;file:///home/ubuntu/miniconda3/lib/python3.10/site-packages/sagemaker/telemetry/telemetry_logging.py#90\u001b\\\u001b[2m90\u001b[0m\u001b]8;;\u001b\\\n",
       "\u001b[2;36m                    \u001b[0m         understand our user's needs, diagnose issues, and deliver      \u001b[2m                       \u001b[0m\n",
       "\u001b[2;36m                    \u001b[0m         additional features.                                           \u001b[2m                       \u001b[0m\n",
       "\u001b[2;36m                    \u001b[0m         To opt out of telemetry, please disable via TelemetryOptOut    \u001b[2m                       \u001b[0m\n",
       "\u001b[2;36m                    \u001b[0m         parameter in SDK defaults config. For more information, refer  \u001b[2m                       \u001b[0m\n",
       "\u001b[2;36m                    \u001b[0m         to                                                             \u001b[2m                       \u001b[0m\n",
       "\u001b[2;36m                    \u001b[0m         \u001b[4;38;2;0;105;255mhttps://sagemaker.readthedocs.io/en/stable/overview.html#confi\u001b[0m \u001b[2m                       \u001b[0m\n",
       "\u001b[2;36m                    \u001b[0m         \u001b[4;38;2;0;105;255mguring-and-using-defaults-with-the-sagemaker-python-sdk.\u001b[0m       \u001b[2m                       \u001b[0m\n"
      ]
     },
     "metadata": {},
     "output_type": "display_data"
    },
    {
     "data": {
      "text/html": [
       "<pre style=\"white-space:pre;overflow-x:auto;line-height:normal;font-family:Menlo,'DejaVu Sans Mono',consolas,'Courier New',monospace\"><span style=\"color: #7fbfbf; text-decoration-color: #7fbfbf\">[12/28/24 07:04:56] </span><span style=\"color: #0069ff; text-decoration-color: #0069ff; font-weight: bold\">INFO    </span> Creating training-job with name: scraper-job-<span style=\"color: #008080; text-decoration-color: #008080; font-weight: bold\">8627380</span>-<span style=\"color: #008080; text-decoration-color: #008080; font-weight: bold\">8627391</span>           <a href=\"file:///home/ubuntu/miniconda3/lib/python3.10/site-packages/sagemaker/session.py\" target=\"_blank\"><span style=\"color: #7f7f7f; text-decoration-color: #7f7f7f\">session.py</span></a><span style=\"color: #7f7f7f; text-decoration-color: #7f7f7f\">:</span><a href=\"file:///home/ubuntu/miniconda3/lib/python3.10/site-packages/sagemaker/session.py#1042\" target=\"_blank\"><span style=\"color: #7f7f7f; text-decoration-color: #7f7f7f\">1042</span></a>\n",
       "</pre>\n"
      ],
      "text/plain": [
       "\u001b[2;36m[12/28/24 07:04:56]\u001b[0m\u001b[2;36m \u001b[0m\u001b[1;38;2;0;105;255mINFO    \u001b[0m Creating training-job with name: scraper-job-\u001b[1;36m8627380\u001b[0m-\u001b[1;36m8627391\u001b[0m           \u001b]8;id=389416;file:///home/ubuntu/miniconda3/lib/python3.10/site-packages/sagemaker/session.py\u001b\\\u001b[2msession.py\u001b[0m\u001b]8;;\u001b\\\u001b[2m:\u001b[0m\u001b]8;id=262737;file:///home/ubuntu/miniconda3/lib/python3.10/site-packages/sagemaker/session.py#1042\u001b\\\u001b[2m1042\u001b[0m\u001b]8;;\u001b\\\n"
      ]
     },
     "metadata": {},
     "output_type": "display_data"
    },
    {
     "name": "stdout",
     "output_type": "stream",
     "text": [
      "2024-12-28 07:04:57 Starting - Starting the training job...\n",
      "2024-12-28 07:05:12 Starting - Preparing the instances for training...\n",
      "2024-12-28 07:05:48 Downloading - Downloading the training image......Job scraper-job-8627380-8627391 completed.\n"
     ]
    }
   ],
   "source": [
    "launch_scraper_job(\n",
    "    start_id=8627380,\n",
    "    end_id=8627391,\n",
    "    local_dir='danbooru_downloads',\n",
    "    upload_dir='s3://dataset-ingested/danbooru'\n",
    ")"
   ]
  },
  {
   "cell_type": "code",
   "execution_count": null,
   "metadata": {},
   "outputs": [],
   "source": [
    "import math\n",
    "def launch_danbooru_scrape_jobs(from_id: int, to_id: int, n_jobs: int, upload_dir: str):\n",
    "    \"\"\"\n",
    "    Launch multiple SageMaker jobs to distribute the scraping workload.\n",
    "\n",
    "    Args:\n",
    "        from_id (int): Starting post ID for the scraper.\n",
    "        to_id (int): Ending post ID for the scraper.\n",
    "        n_jobs (int): Number of jobs to divide the workload.\n",
    "        upload_dir (str): S3 bucket URI to upload the scraped data.\n",
    "    \"\"\"\n",
    "    # Calculate the range of IDs each job will handle\n",
    "    total_posts = to_id - from_id + 1\n",
    "    posts_per_job = math.ceil(total_posts / n_jobs)\n",
    "\n",
    "    for i in range(n_jobs):\n",
    "        start_id = from_id + i * posts_per_job\n",
    "        end_id = min(start_id + posts_per_job - 1, to_id)\n",
    "\n",
    "        local_dir = f'danbooru_downloads_job_{i + 1}'\n",
    "\n",
    "        print(f\"Launching job for IDs {start_id} to {end_id}\")\n",
    "        launch_scraper_job(start_id, end_id, local_dir, upload_dir)\n",
    "\n",
    "FROM_ID = 0\n",
    "TO_ID = 8627626\n",
    "N_JOBS = 80\n",
    "UPLOAD_DIR = 's3://unidataset-danbooru/metadata/20241228_rescrape_full/'\n",
    "launch_danbooru_scrape_jobs(FROM_ID, TO_ID, N_JOBS, UPLOAD_DIR)"
   ]
  },
  {
   "cell_type": "code",
   "execution_count": 3,
   "metadata": {},
   "outputs": [
    {
     "name": "stdout",
     "output_type": "stream",
     "text": [
      "Stopping job: scraper-job-8519834-8627626\n",
      "Stopping job: scraper-job-8411988-8519833\n",
      "Stopping job: scraper-job-8304142-8411987\n",
      "Stopping job: scraper-job-8196296-8304141\n",
      "Stopping job: scraper-job-8088450-8196295\n",
      "Stopping job: scraper-job-7980604-8088449\n",
      "Stopping job: scraper-job-7872758-7980603\n",
      "Stopping job: scraper-job-7764912-7872757\n",
      "Stopping job: scraper-job-7657066-7764911\n",
      "Stopping job: scraper-job-7549220-7657065\n"
     ]
    }
   ],
   "source": [
    "import boto3\n",
    "def terminate_scraper_jobs(name_contains: str = \"scraper-job\"):\n",
    "    \"\"\"\n",
    "    Terminates all SageMaker training jobs with names starting with 'scraper-job'.\n",
    "    \"\"\"\n",
    "    sagemaker_client = boto3.client('sagemaker')\n",
    "\n",
    "    # List all training jobs\n",
    "    response = sagemaker_client.list_training_jobs(\n",
    "        NameContains=name_contains,\n",
    "        StatusEquals=\"InProgress\",\n",
    "    )\n",
    "\n",
    "    training_jobs = response.get(\"TrainingJobSummaries\", [])\n",
    "\n",
    "    for job in training_jobs:\n",
    "        job_name = job[\"TrainingJobName\"]\n",
    "        print(f\"Stopping job: {job_name}\")\n",
    "        sagemaker_client.stop_training_job(TrainingJobName=job_name)\n",
    "\n",
    "terminate_scraper_jobs()"
   ]
  }
 ],
 "metadata": {
  "kernelspec": {
   "display_name": "Python 3",
   "language": "python",
   "name": "python3"
  },
  "language_info": {
   "codemirror_mode": {
    "name": "ipython",
    "version": 3
   },
   "file_extension": ".py",
   "mimetype": "text/x-python",
   "name": "python",
   "nbconvert_exporter": "python",
   "pygments_lexer": "ipython3",
   "version": "3.10.12"
  }
 },
 "nbformat": 4,
 "nbformat_minor": 2
}
