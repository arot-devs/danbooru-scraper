{
 "cells": [
  {
   "cell_type": "markdown",
   "metadata": {},
   "source": [
    "use the written scraper:\n",
    "\n",
    "```bash\n",
    "git clone https://github.com/arot-devs/sakuga-scraper\n",
    "cd sakuga-scraper\n",
    "pip install -e .\n",
    "```"
   ]
  },
  {
   "cell_type": "code",
   "execution_count": 3,
   "metadata": {},
   "outputs": [
    {
     "name": "stdout",
     "output_type": "stream",
     "text": [
      "/home/ubuntu/miniconda3/bin/python\n"
     ]
    }
   ],
   "source": [
    "!which python"
   ]
  },
  {
   "cell_type": "code",
   "execution_count": 4,
   "metadata": {},
   "outputs": [
    {
     "name": "stdout",
     "output_type": "stream",
     "text": [
      "Name: danbooru_scraper\n",
      "Version: 0.1.0\n",
      "Summary: Scraper for the site danbooru\n",
      "Home-page: \n",
      "Author: trojblue\n",
      "Author-email: trojblue@gmail.com\n",
      "License: MIT\n",
      "Location: /home/ubuntu/miniconda3/lib/python3.10/site-packages\n",
      "Editable project location: /home/ubuntu/danbooru-scraper\n",
      "Requires: beautifulsoup4, httpx, ipykernel, pip, tenacity, tqdm, unibox\n",
      "Required-by: \n"
     ]
    }
   ],
   "source": [
    "!pip show danbooru_scraper"
   ]
  },
  {
   "cell_type": "code",
   "execution_count": 1,
   "metadata": {},
   "outputs": [],
   "source": [
    "from danbooru_scraper import DanbooruScraper\n",
    "\n",
    "scraper = DanbooruScraper(root_dir='../data/')"
   ]
  },
  {
   "cell_type": "code",
   "execution_count": 2,
   "metadata": {},
   "outputs": [
    {
     "data": {
      "application/vnd.jupyter.widget-view+json": {
       "model_id": "c77f32d7d4bb4fa5b610ccd7e5c12666",
       "version_major": 2,
       "version_minor": 0
      },
      "text/plain": [
       "  0%|          | 0/9000 [00:00<?, ?it/s]"
      ]
     },
     "metadata": {},
     "output_type": "display_data"
    },
    {
     "name": "stdout",
     "output_type": "stream",
     "text": [
      "Sleeping for 1.1764705882352942\n",
      "Sleeping for 1.1764705882352942\n",
      "Sleeping for 1.1764705882352942\n",
      "Sleeping for 1.1764705882352942\n",
      "Sleeping for 1.1764705882352942\n",
      "Sleeping for 1.1764705882352942\n",
      "Sleeping for 1.1764705882352942\n",
      "Sleeping for 1.1764705882352942\n",
      "Sleeping for 1.1764705882352942\n",
      "Sleeping for 1.1764705882352942\n",
      "Sleeping for 1.1764705882352942\n"
     ]
    },
    {
     "name": "stderr",
     "output_type": "stream",
     "text": [
      "2024-12-28 07:29:26,820 [ERROR] UniLogger: DanbooruScraper.scrape_post: ❌ Failed to fetch post 1011: Client error '404 Not Found' for url 'https://danbooru.donmai.us/posts/1011.json'\n",
      "For more information check: https://developer.mozilla.org/en-US/docs/Web/HTTP/Status/404\n"
     ]
    },
    {
     "name": "stdout",
     "output_type": "stream",
     "text": [
      "Sleeping for 1.1764705882352942\n",
      "Sleeping for 1.1764705882352942\n",
      "Sleeping for 1.1764705882352942\n",
      "Sleeping for 1.1764705882352942\n",
      "Sleeping for 1.1764705882352942\n",
      "Sleeping for 1.1764705882352942\n",
      "Sleeping for 1.1764705882352942\n",
      "Sleeping for 1.1764705882352942\n",
      "Sleeping for 1.1764705882352942\n"
     ]
    },
    {
     "ename": "KeyboardInterrupt",
     "evalue": "",
     "output_type": "error",
     "traceback": [
      "\u001b[0;31m---------------------------------------------------------------------------\u001b[0m",
      "\u001b[0;31mKeyboardInterrupt\u001b[0m                         Traceback (most recent call last)",
      "Cell \u001b[0;32mIn[2], line 2\u001b[0m\n\u001b[1;32m      1\u001b[0m post_ids \u001b[38;5;241m=\u001b[39m [i \u001b[38;5;28;01mfor\u001b[39;00m i \u001b[38;5;129;01min\u001b[39;00m \u001b[38;5;28mrange\u001b[39m(\u001b[38;5;241m1000\u001b[39m, \u001b[38;5;241m10000\u001b[39m)]\n\u001b[0;32m----> 2\u001b[0m \u001b[43mscraper\u001b[49m\u001b[38;5;241;43m.\u001b[39;49m\u001b[43mscrape_posts\u001b[49m\u001b[43m(\u001b[49m\u001b[43mpost_ids\u001b[49m\u001b[43m)\u001b[49m\n",
      "File \u001b[0;32m~/danbooru-scraper/danbooru_scraper/danbooru.py:62\u001b[0m, in \u001b[0;36mDanbooruScraper.scrape_posts\u001b[0;34m(self, post_ids)\u001b[0m\n\u001b[1;32m     60\u001b[0m \u001b[38;5;28mself\u001b[39m\u001b[38;5;241m.\u001b[39mscrape_post(post_id)\n\u001b[1;32m     61\u001b[0m \u001b[38;5;28mprint\u001b[39m(\u001b[38;5;124m\"\u001b[39m\u001b[38;5;124mSleeping for\u001b[39m\u001b[38;5;124m\"\u001b[39m, \u001b[38;5;28mself\u001b[39m\u001b[38;5;241m.\u001b[39mrequest_interval)\n\u001b[0;32m---> 62\u001b[0m \u001b[43mtime\u001b[49m\u001b[38;5;241;43m.\u001b[39;49m\u001b[43msleep\u001b[49m\u001b[43m(\u001b[49m\u001b[38;5;28;43mself\u001b[39;49m\u001b[38;5;241;43m.\u001b[39;49m\u001b[43mrequest_interval\u001b[49m\u001b[43m)\u001b[49m\n",
      "\u001b[0;31mKeyboardInterrupt\u001b[0m: "
     ]
    }
   ],
   "source": [
    "post_ids = [i for i in range(1000, 10000)]\n",
    "scraper.scrape_posts(post_ids)"
   ]
  }
 ],
 "metadata": {
  "kernelspec": {
   "display_name": "Python 3",
   "language": "python",
   "name": "python3"
  },
  "language_info": {
   "codemirror_mode": {
    "name": "ipython",
    "version": 3
   },
   "file_extension": ".py",
   "mimetype": "text/x-python",
   "name": "python",
   "nbconvert_exporter": "python",
   "pygments_lexer": "ipython3",
   "version": "3.10.12"
  }
 },
 "nbformat": 4,
 "nbformat_minor": 2
}
